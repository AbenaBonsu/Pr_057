{
 "cells": [
  {
   "cell_type": "markdown",
   "metadata": {},
   "source": [
    "# COGS108 Final Project"
   ]
  },
  {
   "cell_type": "markdown",
   "metadata": {},
   "source": [
    "## Group Members: \n",
    "- A12120333\n",
    "- A12367273\n",
    "- A12276759\n",
    "- A12831428"
   ]
  },
  {
   "cell_type": "markdown",
   "metadata": {},
   "source": [
    "### Research Question\n",
    "\n",
    "How does gentrification contribute to changes in San Diego demographics? In particular, how do factors such as crime, home value, housing income and racial diversity change as a result of gentrification."
   ]
  },
  {
   "cell_type": "markdown",
   "metadata": {},
   "source": [
    "### Hypothesis\n",
    "Overtime, the overall rate of crime in a gentrified neighborhood does decrease, however within San Diego county the overall crime rates remain constant. This suggests that the crime is not eradicated--but simply displaced or distributed to other non-gentrified neighborhoods."
   ]
  },
  {
   "cell_type": "markdown",
   "metadata": {},
   "source": [
    "### Dataset(s)\n",
    "\n",
    "We will combine data by comparing housing data (which is categorized by the different areas) in order to cross reference and get a better sense of the population demographics within San Diego. This will allow us to not only gain the overall quantitative data of housing, but also the change that occurs in the cities overtime. \n",
    "\n"
   ]
  }
 ],
 "metadata": {
  "kernelspec": {
   "display_name": "Python 3",
   "language": "python",
   "name": "python3"
  },
  "language_info": {
   "codemirror_mode": {
    "name": "ipython",
    "version": 3
   },
   "file_extension": ".py",
   "mimetype": "text/x-python",
   "name": "python",
   "nbconvert_exporter": "python",
   "pygments_lexer": "ipython3",
   "version": "3.5.2"
  }
 },
 "nbformat": 4,
 "nbformat_minor": 2
}
